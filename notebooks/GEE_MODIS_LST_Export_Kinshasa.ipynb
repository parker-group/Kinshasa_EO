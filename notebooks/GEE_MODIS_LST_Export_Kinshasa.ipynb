{
  "nbformat": 4,
  "nbformat_minor": 0,
  "metadata": {
    "colab": {
      "provenance": [],
      "authorship_tag": "ABX9TyO2v/tdAT2ujZEOEQIsm4Bk",
      "include_colab_link": true
    },
    "kernelspec": {
      "name": "python3",
      "display_name": "Python 3"
    },
    "language_info": {
      "name": "python"
    }
  },
  "cells": [
    {
      "cell_type": "markdown",
      "metadata": {
        "id": "view-in-github",
        "colab_type": "text"
      },
      "source": [
        "<a href=\"https://colab.research.google.com/github/parker-group/Kinshasa_EO/blob/main/GEE_MODIS_LST_Export_Kinshasa.ipynb\" target=\"_parent\"><img src=\"https://colab.research.google.com/assets/colab-badge.svg\" alt=\"Open In Colab\"/></a>"
      ]
    },
    {
      "cell_type": "code",
      "execution_count": null,
      "metadata": {
        "colab": {
          "base_uri": "https://localhost:8080/",
          "height": 850
        },
        "id": "XrrdSTEKk9s8",
        "outputId": "2ba6fe2f-fcbd-4c6e-89e3-d7d437b2284a"
      },
      "outputs": [
        {
          "output_type": "display_data",
          "data": {
            "text/plain": [
              "<IPython.core.display.HTML object>"
            ],
            "text/html": [
              "\n",
              "            <style>\n",
              "                .geemap-dark {\n",
              "                    --jp-widgets-color: white;\n",
              "                    --jp-widgets-label-color: white;\n",
              "                    --jp-ui-font-color1: white;\n",
              "                    --jp-layout-color2: #454545;\n",
              "                    background-color: #383838;\n",
              "                }\n",
              "\n",
              "                .geemap-dark .jupyter-button {\n",
              "                    --jp-layout-color3: #383838;\n",
              "                }\n",
              "\n",
              "                .geemap-colab {\n",
              "                    background-color: var(--colab-primary-surface-color, white);\n",
              "                }\n",
              "\n",
              "                .geemap-colab .jupyter-button {\n",
              "                    --jp-layout-color3: var(--colab-primary-surface-color, white);\n",
              "                }\n",
              "            </style>\n",
              "            "
            ]
          },
          "metadata": {}
        },
        {
          "output_type": "stream",
          "name": "stdout",
          "text": [
            "📆 Processing: 2022_01\n",
            "✅ Started export: MODIS_LST_2022_01\n",
            "📆 Processing: 2022_02\n",
            "✅ Started export: MODIS_LST_2022_02\n",
            "📆 Processing: 2022_03\n",
            "✅ Started export: MODIS_LST_2022_03\n",
            "📆 Processing: 2022_04\n",
            "✅ Started export: MODIS_LST_2022_04\n",
            "📆 Processing: 2022_05\n",
            "✅ Started export: MODIS_LST_2022_05\n",
            "📆 Processing: 2022_06\n",
            "✅ Started export: MODIS_LST_2022_06\n",
            "📆 Processing: 2022_07\n",
            "✅ Started export: MODIS_LST_2022_07\n",
            "📆 Processing: 2022_08\n",
            "✅ Started export: MODIS_LST_2022_08\n",
            "📆 Processing: 2022_09\n",
            "✅ Started export: MODIS_LST_2022_09\n",
            "📆 Processing: 2022_10\n",
            "✅ Started export: MODIS_LST_2022_10\n",
            "📆 Processing: 2022_11\n",
            "✅ Started export: MODIS_LST_2022_11\n",
            "📆 Processing: 2022_12\n",
            "✅ Started export: MODIS_LST_2022_12\n",
            "📆 Processing: 2023_01\n",
            "✅ Started export: MODIS_LST_2023_01\n",
            "📆 Processing: 2023_02\n",
            "✅ Started export: MODIS_LST_2023_02\n",
            "📆 Processing: 2023_03\n",
            "✅ Started export: MODIS_LST_2023_03\n",
            "📆 Processing: 2023_04\n",
            "✅ Started export: MODIS_LST_2023_04\n",
            "📆 Processing: 2023_05\n",
            "✅ Started export: MODIS_LST_2023_05\n",
            "📆 Processing: 2023_06\n",
            "✅ Started export: MODIS_LST_2023_06\n",
            "📆 Processing: 2023_07\n",
            "✅ Started export: MODIS_LST_2023_07\n",
            "📆 Processing: 2023_08\n",
            "✅ Started export: MODIS_LST_2023_08\n",
            "📆 Processing: 2023_09\n",
            "✅ Started export: MODIS_LST_2023_09\n",
            "📆 Processing: 2023_10\n",
            "✅ Started export: MODIS_LST_2023_10\n",
            "📆 Processing: 2023_11\n",
            "✅ Started export: MODIS_LST_2023_11\n",
            "📆 Processing: 2023_12\n",
            "✅ Started export: MODIS_LST_2023_12\n"
          ]
        }
      ],
      "source": [
        "# MODIS LST Export - Colab Version\n",
        "!pip install earthengine-api geemap --quiet\n",
        "\n",
        "import ee\n",
        "import geemap\n",
        "import time\n",
        "from datetime import datetime\n",
        "from dateutil.relativedelta import relativedelta\n",
        "\n",
        "ee.Authenticate()\n",
        "ee.Initialize(project='ee-salempar')\n",
        "\n",
        "roi = ee.FeatureCollection(\"projects/ee-salempar/assets/Kinshasa_AiresSelect2\")\n",
        "\n",
        "start_date = datetime(2022, 1, 1)\n",
        "end_date = datetime(2023, 12, 31)\n",
        "\n",
        "modis_lst = (\n",
        "    ee.ImageCollection('MODIS/061/MOD11A2')\n",
        "    .filterBounds(roi)\n",
        "    .filterDate(start_date.strftime('%Y-%m-%d'), end_date.strftime('%Y-%m-%d'))\n",
        "    .select('LST_Day_1km')\n",
        "    .map(lambda img: img\n",
        "         .multiply(0.02)\n",
        "         .subtract(273.15)\n",
        "         .rename('LST_C')\n",
        "         .copyProperties(img, ['system:time_start']))\n",
        ")\n",
        "\n",
        "def export_monthly_modis_lst(collection, band_name, label_prefix, scale, folder, reducer):\n",
        "    current = start_date\n",
        "    while current <= end_date:\n",
        "        next_month = current + relativedelta(months=1)\n",
        "        label = current.strftime(\"%Y_%m\")\n",
        "        print(f\"\\U0001F4C6 Processing: {label}\")\n",
        "\n",
        "        ee_start = ee.Date(current.strftime(\"%Y-%m-%d\"))\n",
        "        ee_end = ee.Date(next_month.strftime(\"%Y-%m-%d\"))\n",
        "\n",
        "        image = collection.filterDate(ee_start, ee_end).select(band_name).reduce(reducer)\n",
        "        image = ee.Image(image).clip(roi)\n",
        "\n",
        "        try:\n",
        "            if image.bandNames().size().getInfo() > 0:\n",
        "                task = ee.batch.Export.image.toDrive(**{\n",
        "                    'image': image,\n",
        "                    'description': f\"{label_prefix}_{label}\",\n",
        "                    'folder': f\"{folder}_{label_prefix}\",\n",
        "                    'fileNamePrefix': f\"{label_prefix}_{label}\",\n",
        "                    'scale': scale,\n",
        "                    'region': roi.geometry(),\n",
        "                    'crs': 'EPSG:4326',\n",
        "                    'maxPixels': 1e13\n",
        "                })\n",
        "                task.start()\n",
        "                print(f\"✅ Started export: {label_prefix}_{label}\")\n",
        "                time.sleep(2)\n",
        "            else:\n",
        "                print(f\"⚠️ Skipped: {label_prefix}_{label} — no valid data\")\n",
        "        except Exception as e:\n",
        "            print(f\"❌ Error on {label_prefix}_{label}: {str(e)}\")\n",
        "\n",
        "        current = next_month\n",
        "\n",
        "export_monthly_modis_lst(\n",
        "    collection=modis_lst,\n",
        "    band_name='LST_C',\n",
        "    label_prefix='MODIS_LST',\n",
        "    scale=1000,\n",
        "    folder='GEE_Kinshasa',\n",
        "    reducer=ee.Reducer.mean()\n",
        ")\n"
      ]
    }
  ]
}