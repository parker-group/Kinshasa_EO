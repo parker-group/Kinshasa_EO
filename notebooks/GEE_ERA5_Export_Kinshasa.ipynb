{
  "nbformat": 4,
  "nbformat_minor": 0,
  "metadata": {
    "colab": {
      "provenance": [],
      "authorship_tag": "ABX9TyOWpkfotoYeykwpv5MzM2ab",
      "include_colab_link": true
    },
    "kernelspec": {
      "name": "python3",
      "display_name": "Python 3"
    },
    "language_info": {
      "name": "python"
    }
  },
  "cells": [
    {
      "cell_type": "markdown",
      "metadata": {
        "id": "view-in-github",
        "colab_type": "text"
      },
      "source": [
        "<a href=\"https://colab.research.google.com/github/parker-group/Kinshasa_EO/blob/main/GEE_ERA5_Export_Kinshasa.ipynb\" target=\"_parent\"><img src=\"https://colab.research.google.com/assets/colab-badge.svg\" alt=\"Open In Colab\"/></a>"
      ]
    },
    {
      "cell_type": "code",
      "execution_count": 2,
      "metadata": {
        "id": "8ZHv3OT9gAgU",
        "colab": {
          "base_uri": "https://localhost:8080/",
          "height": 885
        },
        "outputId": "4de449d1-86ed-46d2-9c86-aa6dea1b03fa"
      },
      "outputs": [
        {
          "output_type": "stream",
          "name": "stdout",
          "text": [
            "\u001b[?25l   \u001b[90m━━━━━━━━━━━━━━━━━━━━━━━━━━━━━━━━━━━━━━━━\u001b[0m \u001b[32m0.0/1.6 MB\u001b[0m \u001b[31m?\u001b[0m eta \u001b[36m-:--:--\u001b[0m\r\u001b[2K   \u001b[91m━━━\u001b[0m\u001b[91m╸\u001b[0m\u001b[90m━━━━━━━━━━━━━━━━━━━━━━━━━━━━━━━━━━━━\u001b[0m \u001b[32m0.2/1.6 MB\u001b[0m \u001b[31m4.4 MB/s\u001b[0m eta \u001b[36m0:00:01\u001b[0m\r\u001b[2K   \u001b[91m━━━━━━━━━━━━━━━━━━━━━━━━━━━━━━━━━━\u001b[0m\u001b[90m╺\u001b[0m\u001b[90m━━━━━\u001b[0m \u001b[32m1.3/1.6 MB\u001b[0m \u001b[31m19.3 MB/s\u001b[0m eta \u001b[36m0:00:01\u001b[0m\r\u001b[2K   \u001b[90m━━━━━━━━━━━━━━━━━━━━━━━━━━━━━━━━━━━━━━━━\u001b[0m \u001b[32m1.6/1.6 MB\u001b[0m \u001b[31m17.1 MB/s\u001b[0m eta \u001b[36m0:00:00\u001b[0m\n",
            "\u001b[?25h✅ Started export: ERA5_Temp_2022_01\n",
            "✅ Started export: ERA5_Temp_2022_02\n",
            "✅ Started export: ERA5_Temp_2022_03\n",
            "✅ Started export: ERA5_Temp_2022_04\n",
            "✅ Started export: ERA5_Temp_2022_05\n",
            "✅ Started export: ERA5_Temp_2022_06\n",
            "✅ Started export: ERA5_Temp_2022_07\n",
            "✅ Started export: ERA5_Temp_2022_08\n",
            "✅ Started export: ERA5_Temp_2022_09\n",
            "✅ Started export: ERA5_Temp_2022_10\n",
            "✅ Started export: ERA5_Temp_2022_11\n",
            "✅ Started export: ERA5_Temp_2022_12\n",
            "✅ Started export: ERA5_Temp_2023_01\n",
            "✅ Started export: ERA5_Temp_2023_02\n",
            "✅ Started export: ERA5_Temp_2023_03\n",
            "✅ Started export: ERA5_Temp_2023_04\n",
            "✅ Started export: ERA5_Temp_2023_05\n",
            "✅ Started export: ERA5_Temp_2023_06\n",
            "✅ Started export: ERA5_Temp_2023_07\n",
            "✅ Started export: ERA5_Temp_2023_08\n",
            "✅ Started export: ERA5_Temp_2023_09\n",
            "✅ Started export: ERA5_Temp_2023_10\n",
            "✅ Started export: ERA5_Temp_2023_11\n",
            "✅ Started export: ERA5_Temp_2023_12\n",
            "✅ Started export: ERA5_Precip_2022_01\n",
            "✅ Started export: ERA5_Precip_2022_02\n",
            "✅ Started export: ERA5_Precip_2022_03\n",
            "✅ Started export: ERA5_Precip_2022_04\n",
            "✅ Started export: ERA5_Precip_2022_05\n",
            "✅ Started export: ERA5_Precip_2022_06\n",
            "✅ Started export: ERA5_Precip_2022_07\n",
            "✅ Started export: ERA5_Precip_2022_08\n",
            "✅ Started export: ERA5_Precip_2022_09\n",
            "✅ Started export: ERA5_Precip_2022_10\n",
            "✅ Started export: ERA5_Precip_2022_11\n",
            "✅ Started export: ERA5_Precip_2022_12\n",
            "✅ Started export: ERA5_Precip_2023_01\n",
            "✅ Started export: ERA5_Precip_2023_02\n",
            "✅ Started export: ERA5_Precip_2023_03\n",
            "✅ Started export: ERA5_Precip_2023_04\n",
            "✅ Started export: ERA5_Precip_2023_05\n",
            "✅ Started export: ERA5_Precip_2023_06\n",
            "✅ Started export: ERA5_Precip_2023_07\n",
            "✅ Started export: ERA5_Precip_2023_08\n",
            "✅ Started export: ERA5_Precip_2023_09\n",
            "✅ Started export: ERA5_Precip_2023_10\n",
            "✅ Started export: ERA5_Precip_2023_11\n",
            "✅ Started export: ERA5_Precip_2023_12\n",
            "⏱️ Total script runtime: 0.81 minutes\n"
          ]
        }
      ],
      "source": [
        "!pip install earthengine-api geemap --quiet\n",
        "import ee\n",
        "import geemap\n",
        "from datetime import datetime\n",
        "from dateutil.relativedelta import relativedelta\n",
        "import time\n",
        "\n",
        "ee.Authenticate()\n",
        "ee.Initialize(project='ee-salempar')\n",
        "\n",
        "roi = ee.FeatureCollection(\"projects/ee-salempar/assets/Kinshasa_AiresSelect2\")\n",
        "\n",
        "start_date = datetime(2022, 1, 1)\n",
        "end_date = datetime(2023, 12, 31)\n",
        "\n",
        "def export_era5_rasters(band_name, label_prefix, scale, folder, reducer):\n",
        "    current = start_date\n",
        "    while current <= end_date:\n",
        "        next_month = current + relativedelta(months=1)\n",
        "        label = current.strftime(\"%Y_%m\")\n",
        "\n",
        "        ee_start = ee.Date(current.strftime(\"%Y-%m-%d\"))\n",
        "        ee_end = ee.Date(next_month.strftime(\"%Y-%m-%d\"))\n",
        "\n",
        "        image = (ee.ImageCollection(\"ECMWF/ERA5_LAND/MONTHLY_AGGR\")\n",
        "                 .filterDate(ee_start, ee_end)\n",
        "                 .filterBounds(roi)\n",
        "                 .select(band_name)\n",
        "                 .reduce(reducer)\n",
        "                 .clip(roi))\n",
        "\n",
        "        if band_name == 'temperature_2m':\n",
        "            image = image.subtract(273.15).rename(band_name)\n",
        "\n",
        "        task = ee.batch.Export.image.toDrive(**{\n",
        "            'image': image,\n",
        "            'description': f\"{label_prefix}_{label}\",\n",
        "            'folder': folder,\n",
        "            'fileNamePrefix': f\"{label_prefix}_{label}\",\n",
        "            'scale': scale,\n",
        "            'region': roi.geometry(),\n",
        "            'crs': 'EPSG:4326',\n",
        "            'maxPixels': 1e13\n",
        "        })\n",
        "        task.start()\n",
        "        print(f\"✅ Started export: {label_prefix}_{label}\")\n",
        "\n",
        "        current = next_month\n",
        "\n",
        "start_time = time.time()\n",
        "\n",
        "export_era5_rasters('temperature_2m', 'ERA5_Temp', 1000, 'GEE_Kinshasa', ee.Reducer.mean())\n",
        "export_era5_rasters('total_precipitation_sum', 'ERA5_Precip', 1000, 'GEE_Kinshasa', ee.Reducer.sum())\n",
        "\n",
        "end_time = time.time()\n",
        "elapsed_minutes = (end_time - start_time) / 60\n",
        "print(f\"⏱️ Total script runtime: {elapsed_minutes:.2f} minutes\")\n"
      ]
    }
  ]
}